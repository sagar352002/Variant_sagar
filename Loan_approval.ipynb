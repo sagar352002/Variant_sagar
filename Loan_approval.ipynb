{
 "cells": [
  {
   "cell_type": "markdown",
   "id": "59ba949f",
   "metadata": {},
   "source": [
    "\n",
    "Loan  Prediction System  is  a  software  which  checks \n",
    "the  eligibility  of  a  particular  customer  who  is  capable  of \n",
    "paying loan or not. This system checks various parameters \n",
    "such  as  customer’s  martial  status,  income,  expenditure \n",
    "and  various  factors.  This  process  is  applied  for  many \n",
    "customers of trained data set. By considering these factors \n",
    "a required model is built. This model is applied on the test \n",
    "data  set  for getting required output.  The  output generated \n",
    "will  be  in  the  form  of  yes  or  no.  Yes  indicates  that  a \n",
    "particular  customer  is  capable  of  paying  loan  and  no \n",
    "indicates  that  the  particular  customer  is  not  capable  of \n",
    "paying loan. Based on these factors we can approve loans \n",
    "for customers\n"
   ]
  },
  {
   "cell_type": "markdown",
   "id": "b2cd2e46",
   "metadata": {},
   "source": [
    "### Assumption\n",
    "- Independence of Applications: This means that the decision for one loan application does not influence the decision for another. \n",
    "- Normal Distribution: Some statistical models assume that variables related to loan approval (e.g., income, credit scores) follow a normal distribution.\n",
    "- Independence of Variables: Many statistical models assume that predictor variables (e.g., income, credit score) are independent of each other. In reality, there may be correlations between these variables (e.g., income and education level), and you should be aware of multicollinearity issues.\n",
    "- Binary Outcome: Loan approval models often assume that the outcome variable is binary (approved or denied)\n",
    "- Equal Loan Performance: Some models assume that loans with similar characteristics will have similar performance (e.g., default rates). However, loan performance can vary even among loans with similar attributes.\n"
   ]
  },
  {
   "cell_type": "code",
   "execution_count": 1,
   "id": "214371f6",
   "metadata": {},
   "outputs": [],
   "source": [
    "import numpy as np\n",
    "import pandas as pd\n",
    "import matplotlib.pyplot as plt\n",
    "import seaborn as sns\n",
    "from sklearn.model_selection import train_test_split\n",
    "from sklearn.linear_model import LogisticRegression\n",
    "from sklearn import  metrics\n",
    "from miditk.smf import MidiFileWriter\n",
    "\n",
    "import warnings\n",
    "warnings.filterwarnings(\"ignore\")\n",
    "%matplotlib inline"
   ]
  },
  {
   "cell_type": "code",
   "execution_count": 2,
   "id": "0e18da6e",
   "metadata": {},
   "outputs": [],
   "source": [
    "loan=pd.read_csv(\"loan.csv\")\n"
   ]
  },
  {
   "cell_type": "code",
   "execution_count": 3,
   "id": "3bbedb46",
   "metadata": {},
   "outputs": [
    {
     "data": {
      "text/html": [
       "<div>\n",
       "<style scoped>\n",
       "    .dataframe tbody tr th:only-of-type {\n",
       "        vertical-align: middle;\n",
       "    }\n",
       "\n",
       "    .dataframe tbody tr th {\n",
       "        vertical-align: top;\n",
       "    }\n",
       "\n",
       "    .dataframe thead th {\n",
       "        text-align: right;\n",
       "    }\n",
       "</style>\n",
       "<table border=\"1\" class=\"dataframe\">\n",
       "  <thead>\n",
       "    <tr style=\"text-align: right;\">\n",
       "      <th></th>\n",
       "      <th>Loan_ID</th>\n",
       "      <th>Gender</th>\n",
       "      <th>Married</th>\n",
       "      <th>Dependents</th>\n",
       "      <th>Education</th>\n",
       "      <th>Self_Employed</th>\n",
       "      <th>ApplicantIncome</th>\n",
       "      <th>CoapplicantIncome</th>\n",
       "      <th>LoanAmount</th>\n",
       "      <th>Loan_Amount_Term</th>\n",
       "      <th>Credit_History</th>\n",
       "      <th>Property_Area</th>\n",
       "      <th>Loan_Status</th>\n",
       "    </tr>\n",
       "  </thead>\n",
       "  <tbody>\n",
       "    <tr>\n",
       "      <th>0</th>\n",
       "      <td>LP001002</td>\n",
       "      <td>Male</td>\n",
       "      <td>No</td>\n",
       "      <td>0</td>\n",
       "      <td>Graduate</td>\n",
       "      <td>No</td>\n",
       "      <td>5849</td>\n",
       "      <td>0.0</td>\n",
       "      <td>NaN</td>\n",
       "      <td>360.0</td>\n",
       "      <td>1.0</td>\n",
       "      <td>Urban</td>\n",
       "      <td>Y</td>\n",
       "    </tr>\n",
       "    <tr>\n",
       "      <th>1</th>\n",
       "      <td>LP001003</td>\n",
       "      <td>Male</td>\n",
       "      <td>Yes</td>\n",
       "      <td>1</td>\n",
       "      <td>Graduate</td>\n",
       "      <td>No</td>\n",
       "      <td>4583</td>\n",
       "      <td>1508.0</td>\n",
       "      <td>128.0</td>\n",
       "      <td>360.0</td>\n",
       "      <td>1.0</td>\n",
       "      <td>Rural</td>\n",
       "      <td>N</td>\n",
       "    </tr>\n",
       "    <tr>\n",
       "      <th>2</th>\n",
       "      <td>LP001005</td>\n",
       "      <td>Male</td>\n",
       "      <td>Yes</td>\n",
       "      <td>0</td>\n",
       "      <td>Graduate</td>\n",
       "      <td>Yes</td>\n",
       "      <td>3000</td>\n",
       "      <td>0.0</td>\n",
       "      <td>66.0</td>\n",
       "      <td>360.0</td>\n",
       "      <td>1.0</td>\n",
       "      <td>Urban</td>\n",
       "      <td>Y</td>\n",
       "    </tr>\n",
       "    <tr>\n",
       "      <th>3</th>\n",
       "      <td>LP001006</td>\n",
       "      <td>Male</td>\n",
       "      <td>Yes</td>\n",
       "      <td>0</td>\n",
       "      <td>Not Graduate</td>\n",
       "      <td>No</td>\n",
       "      <td>2583</td>\n",
       "      <td>2358.0</td>\n",
       "      <td>120.0</td>\n",
       "      <td>360.0</td>\n",
       "      <td>1.0</td>\n",
       "      <td>Urban</td>\n",
       "      <td>Y</td>\n",
       "    </tr>\n",
       "    <tr>\n",
       "      <th>4</th>\n",
       "      <td>LP001008</td>\n",
       "      <td>Male</td>\n",
       "      <td>No</td>\n",
       "      <td>0</td>\n",
       "      <td>Graduate</td>\n",
       "      <td>No</td>\n",
       "      <td>6000</td>\n",
       "      <td>0.0</td>\n",
       "      <td>141.0</td>\n",
       "      <td>360.0</td>\n",
       "      <td>1.0</td>\n",
       "      <td>Urban</td>\n",
       "      <td>Y</td>\n",
       "    </tr>\n",
       "    <tr>\n",
       "      <th>5</th>\n",
       "      <td>LP001011</td>\n",
       "      <td>Male</td>\n",
       "      <td>Yes</td>\n",
       "      <td>2</td>\n",
       "      <td>Graduate</td>\n",
       "      <td>Yes</td>\n",
       "      <td>5417</td>\n",
       "      <td>4196.0</td>\n",
       "      <td>267.0</td>\n",
       "      <td>360.0</td>\n",
       "      <td>1.0</td>\n",
       "      <td>Urban</td>\n",
       "      <td>Y</td>\n",
       "    </tr>\n",
       "    <tr>\n",
       "      <th>6</th>\n",
       "      <td>LP001013</td>\n",
       "      <td>Male</td>\n",
       "      <td>Yes</td>\n",
       "      <td>0</td>\n",
       "      <td>Not Graduate</td>\n",
       "      <td>No</td>\n",
       "      <td>2333</td>\n",
       "      <td>1516.0</td>\n",
       "      <td>95.0</td>\n",
       "      <td>360.0</td>\n",
       "      <td>1.0</td>\n",
       "      <td>Urban</td>\n",
       "      <td>Y</td>\n",
       "    </tr>\n",
       "    <tr>\n",
       "      <th>7</th>\n",
       "      <td>LP001014</td>\n",
       "      <td>Male</td>\n",
       "      <td>Yes</td>\n",
       "      <td>3+</td>\n",
       "      <td>Graduate</td>\n",
       "      <td>No</td>\n",
       "      <td>3036</td>\n",
       "      <td>2504.0</td>\n",
       "      <td>158.0</td>\n",
       "      <td>360.0</td>\n",
       "      <td>0.0</td>\n",
       "      <td>Semiurban</td>\n",
       "      <td>N</td>\n",
       "    </tr>\n",
       "    <tr>\n",
       "      <th>8</th>\n",
       "      <td>LP001018</td>\n",
       "      <td>Male</td>\n",
       "      <td>Yes</td>\n",
       "      <td>2</td>\n",
       "      <td>Graduate</td>\n",
       "      <td>No</td>\n",
       "      <td>4006</td>\n",
       "      <td>1526.0</td>\n",
       "      <td>168.0</td>\n",
       "      <td>360.0</td>\n",
       "      <td>1.0</td>\n",
       "      <td>Urban</td>\n",
       "      <td>Y</td>\n",
       "    </tr>\n",
       "    <tr>\n",
       "      <th>9</th>\n",
       "      <td>LP001020</td>\n",
       "      <td>Male</td>\n",
       "      <td>Yes</td>\n",
       "      <td>1</td>\n",
       "      <td>Graduate</td>\n",
       "      <td>No</td>\n",
       "      <td>12841</td>\n",
       "      <td>10968.0</td>\n",
       "      <td>349.0</td>\n",
       "      <td>360.0</td>\n",
       "      <td>1.0</td>\n",
       "      <td>Semiurban</td>\n",
       "      <td>N</td>\n",
       "    </tr>\n",
       "  </tbody>\n",
       "</table>\n",
       "</div>"
      ],
      "text/plain": [
       "    Loan_ID Gender Married Dependents     Education Self_Employed  \\\n",
       "0  LP001002   Male      No          0      Graduate            No   \n",
       "1  LP001003   Male     Yes          1      Graduate            No   \n",
       "2  LP001005   Male     Yes          0      Graduate           Yes   \n",
       "3  LP001006   Male     Yes          0  Not Graduate            No   \n",
       "4  LP001008   Male      No          0      Graduate            No   \n",
       "5  LP001011   Male     Yes          2      Graduate           Yes   \n",
       "6  LP001013   Male     Yes          0  Not Graduate            No   \n",
       "7  LP001014   Male     Yes         3+      Graduate            No   \n",
       "8  LP001018   Male     Yes          2      Graduate            No   \n",
       "9  LP001020   Male     Yes          1      Graduate            No   \n",
       "\n",
       "   ApplicantIncome  CoapplicantIncome  LoanAmount  Loan_Amount_Term  \\\n",
       "0             5849                0.0         NaN             360.0   \n",
       "1             4583             1508.0       128.0             360.0   \n",
       "2             3000                0.0        66.0             360.0   \n",
       "3             2583             2358.0       120.0             360.0   \n",
       "4             6000                0.0       141.0             360.0   \n",
       "5             5417             4196.0       267.0             360.0   \n",
       "6             2333             1516.0        95.0             360.0   \n",
       "7             3036             2504.0       158.0             360.0   \n",
       "8             4006             1526.0       168.0             360.0   \n",
       "9            12841            10968.0       349.0             360.0   \n",
       "\n",
       "   Credit_History Property_Area Loan_Status  \n",
       "0             1.0         Urban           Y  \n",
       "1             1.0         Rural           N  \n",
       "2             1.0         Urban           Y  \n",
       "3             1.0         Urban           Y  \n",
       "4             1.0         Urban           Y  \n",
       "5             1.0         Urban           Y  \n",
       "6             1.0         Urban           Y  \n",
       "7             0.0     Semiurban           N  \n",
       "8             1.0         Urban           Y  \n",
       "9             1.0     Semiurban           N  "
      ]
     },
     "execution_count": 3,
     "metadata": {},
     "output_type": "execute_result"
    }
   ],
   "source": [
    "loan.head(10)"
   ]
  },
  {
   "cell_type": "code",
   "execution_count": 4,
   "id": "1ef2eac8",
   "metadata": {},
   "outputs": [
    {
     "data": {
      "text/plain": [
       "(614, 13)"
      ]
     },
     "execution_count": 4,
     "metadata": {},
     "output_type": "execute_result"
    }
   ],
   "source": [
    "loan.shape"
   ]
  },
  {
   "cell_type": "code",
   "execution_count": 5,
   "id": "0a0f14ad",
   "metadata": {},
   "outputs": [
    {
     "name": "stdout",
     "output_type": "stream",
     "text": [
      "<class 'pandas.core.frame.DataFrame'>\n",
      "RangeIndex: 614 entries, 0 to 613\n",
      "Data columns (total 13 columns):\n",
      " #   Column             Non-Null Count  Dtype  \n",
      "---  ------             --------------  -----  \n",
      " 0   Loan_ID            614 non-null    object \n",
      " 1   Gender             601 non-null    object \n",
      " 2   Married            611 non-null    object \n",
      " 3   Dependents         599 non-null    object \n",
      " 4   Education          614 non-null    object \n",
      " 5   Self_Employed      582 non-null    object \n",
      " 6   ApplicantIncome    614 non-null    int64  \n",
      " 7   CoapplicantIncome  614 non-null    float64\n",
      " 8   LoanAmount         592 non-null    float64\n",
      " 9   Loan_Amount_Term   600 non-null    float64\n",
      " 10  Credit_History     564 non-null    float64\n",
      " 11  Property_Area      614 non-null    object \n",
      " 12  Loan_Status        614 non-null    object \n",
      "dtypes: float64(4), int64(1), object(8)\n",
      "memory usage: 62.5+ KB\n"
     ]
    }
   ],
   "source": [
    "loan.info()\n"
   ]
  },
  {
   "cell_type": "code",
   "execution_count": 6,
   "id": "860df2f5",
   "metadata": {},
   "outputs": [],
   "source": [
    "loan=loan.drop(\"Loan_ID\",axis=1)\n"
   ]
  },
  {
   "cell_type": "code",
   "execution_count": 7,
   "id": "66eb6d83",
   "metadata": {},
   "outputs": [
    {
     "data": {
      "text/plain": [
       "(614, 12)"
      ]
     },
     "execution_count": 7,
     "metadata": {},
     "output_type": "execute_result"
    }
   ],
   "source": [
    "loan.shape"
   ]
  },
  {
   "cell_type": "code",
   "execution_count": 8,
   "id": "946415a3",
   "metadata": {
    "scrolled": true
   },
   "outputs": [
    {
     "name": "stdout",
     "output_type": "stream",
     "text": [
      "Gender\n",
      "['Male' 'Female' nan]\n",
      "--------------------------------------------------------------------------------\n",
      "Married\n",
      "['No' 'Yes' nan]\n",
      "--------------------------------------------------------------------------------\n",
      "Dependents\n",
      "['0' '1' '2' '3+' nan]\n",
      "--------------------------------------------------------------------------------\n",
      "Education\n",
      "['Graduate' 'Not Graduate']\n",
      "--------------------------------------------------------------------------------\n",
      "Self_Employed\n",
      "['No' 'Yes' nan]\n",
      "--------------------------------------------------------------------------------\n",
      "Property_Area\n",
      "['Urban' 'Rural' 'Semiurban']\n",
      "--------------------------------------------------------------------------------\n",
      "Loan_Status\n",
      "['Y' 'N']\n",
      "--------------------------------------------------------------------------------\n"
     ]
    }
   ],
   "source": [
    "for col in loan.describe(include=object).columns:\n",
    "    print(col)\n",
    "    print(loan[col].unique())\n",
    "    print('--'*40)"
   ]
  },
  {
   "cell_type": "code",
   "execution_count": 9,
   "id": "1704f6e2",
   "metadata": {},
   "outputs": [
    {
     "data": {
      "text/plain": [
       "Index(['ApplicantIncome', 'CoapplicantIncome', 'LoanAmount',\n",
       "       'Loan_Amount_Term', 'Credit_History'],\n",
       "      dtype='object')"
      ]
     },
     "execution_count": 9,
     "metadata": {},
     "output_type": "execute_result"
    }
   ],
   "source": [
    "\n",
    "loan.dtypes[loan.dtypes!=object].index"
   ]
  },
  {
   "cell_type": "code",
   "execution_count": 10,
   "id": "7f6337d0",
   "metadata": {},
   "outputs": [
    {
     "data": {
      "text/plain": [
       "(614, 12)"
      ]
     },
     "execution_count": 10,
     "metadata": {},
     "output_type": "execute_result"
    }
   ],
   "source": [
    "loan=loan.drop_duplicates() # drop duplicates entry\n",
    "loan.shape"
   ]
  },
  {
   "cell_type": "code",
   "execution_count": 11,
   "id": "df207e89",
   "metadata": {},
   "outputs": [
    {
     "data": {
      "text/plain": [
       "Gender               13\n",
       "Married               3\n",
       "Dependents           15\n",
       "Education             0\n",
       "Self_Employed        32\n",
       "ApplicantIncome       0\n",
       "CoapplicantIncome     0\n",
       "LoanAmount           22\n",
       "Loan_Amount_Term     14\n",
       "Credit_History       50\n",
       "Property_Area         0\n",
       "Loan_Status           0\n",
       "dtype: int64"
      ]
     },
     "execution_count": 11,
     "metadata": {},
     "output_type": "execute_result"
    }
   ],
   "source": [
    "loan.isnull().sum()"
   ]
  },
  {
   "cell_type": "code",
   "execution_count": null,
   "id": "b70fcbff",
   "metadata": {},
   "outputs": [],
   "source": []
  },
  {
   "cell_type": "code",
   "execution_count": 12,
   "id": "48faa28e",
   "metadata": {},
   "outputs": [
    {
     "data": {
      "text/html": [
       "<div>\n",
       "<style scoped>\n",
       "    .dataframe tbody tr th:only-of-type {\n",
       "        vertical-align: middle;\n",
       "    }\n",
       "\n",
       "    .dataframe tbody tr th {\n",
       "        vertical-align: top;\n",
       "    }\n",
       "\n",
       "    .dataframe thead th {\n",
       "        text-align: right;\n",
       "    }\n",
       "</style>\n",
       "<table border=\"1\" class=\"dataframe\">\n",
       "  <thead>\n",
       "    <tr style=\"text-align: right;\">\n",
       "      <th></th>\n",
       "      <th>Gender</th>\n",
       "      <th>Married</th>\n",
       "      <th>Dependents</th>\n",
       "      <th>Education</th>\n",
       "      <th>Self_Employed</th>\n",
       "      <th>ApplicantIncome</th>\n",
       "      <th>CoapplicantIncome</th>\n",
       "      <th>LoanAmount</th>\n",
       "      <th>Loan_Amount_Term</th>\n",
       "      <th>Credit_History</th>\n",
       "      <th>Property_Area</th>\n",
       "      <th>Loan_Status</th>\n",
       "    </tr>\n",
       "  </thead>\n",
       "  <tbody>\n",
       "    <tr>\n",
       "      <th>0</th>\n",
       "      <td>Male</td>\n",
       "      <td>No</td>\n",
       "      <td>0</td>\n",
       "      <td>Graduate</td>\n",
       "      <td>No</td>\n",
       "      <td>5849</td>\n",
       "      <td>0.0</td>\n",
       "      <td>NaN</td>\n",
       "      <td>360.0</td>\n",
       "      <td>1.0</td>\n",
       "      <td>Urban</td>\n",
       "      <td>Y</td>\n",
       "    </tr>\n",
       "    <tr>\n",
       "      <th>11</th>\n",
       "      <td>Male</td>\n",
       "      <td>Yes</td>\n",
       "      <td>2</td>\n",
       "      <td>Graduate</td>\n",
       "      <td>NaN</td>\n",
       "      <td>2500</td>\n",
       "      <td>1840.0</td>\n",
       "      <td>109.0</td>\n",
       "      <td>360.0</td>\n",
       "      <td>1.0</td>\n",
       "      <td>Urban</td>\n",
       "      <td>Y</td>\n",
       "    </tr>\n",
       "    <tr>\n",
       "      <th>16</th>\n",
       "      <td>Male</td>\n",
       "      <td>No</td>\n",
       "      <td>1</td>\n",
       "      <td>Not Graduate</td>\n",
       "      <td>No</td>\n",
       "      <td>3596</td>\n",
       "      <td>0.0</td>\n",
       "      <td>100.0</td>\n",
       "      <td>240.0</td>\n",
       "      <td>NaN</td>\n",
       "      <td>Urban</td>\n",
       "      <td>Y</td>\n",
       "    </tr>\n",
       "    <tr>\n",
       "      <th>19</th>\n",
       "      <td>Male</td>\n",
       "      <td>Yes</td>\n",
       "      <td>0</td>\n",
       "      <td>Graduate</td>\n",
       "      <td>NaN</td>\n",
       "      <td>2600</td>\n",
       "      <td>3500.0</td>\n",
       "      <td>115.0</td>\n",
       "      <td>NaN</td>\n",
       "      <td>1.0</td>\n",
       "      <td>Urban</td>\n",
       "      <td>Y</td>\n",
       "    </tr>\n",
       "    <tr>\n",
       "      <th>23</th>\n",
       "      <td>NaN</td>\n",
       "      <td>Yes</td>\n",
       "      <td>2</td>\n",
       "      <td>Not Graduate</td>\n",
       "      <td>No</td>\n",
       "      <td>3365</td>\n",
       "      <td>1917.0</td>\n",
       "      <td>112.0</td>\n",
       "      <td>360.0</td>\n",
       "      <td>0.0</td>\n",
       "      <td>Rural</td>\n",
       "      <td>N</td>\n",
       "    </tr>\n",
       "    <tr>\n",
       "      <th>...</th>\n",
       "      <td>...</td>\n",
       "      <td>...</td>\n",
       "      <td>...</td>\n",
       "      <td>...</td>\n",
       "      <td>...</td>\n",
       "      <td>...</td>\n",
       "      <td>...</td>\n",
       "      <td>...</td>\n",
       "      <td>...</td>\n",
       "      <td>...</td>\n",
       "      <td>...</td>\n",
       "      <td>...</td>\n",
       "    </tr>\n",
       "    <tr>\n",
       "      <th>592</th>\n",
       "      <td>NaN</td>\n",
       "      <td>No</td>\n",
       "      <td>3+</td>\n",
       "      <td>Graduate</td>\n",
       "      <td>Yes</td>\n",
       "      <td>9357</td>\n",
       "      <td>0.0</td>\n",
       "      <td>292.0</td>\n",
       "      <td>360.0</td>\n",
       "      <td>1.0</td>\n",
       "      <td>Semiurban</td>\n",
       "      <td>Y</td>\n",
       "    </tr>\n",
       "    <tr>\n",
       "      <th>597</th>\n",
       "      <td>Male</td>\n",
       "      <td>No</td>\n",
       "      <td>NaN</td>\n",
       "      <td>Graduate</td>\n",
       "      <td>No</td>\n",
       "      <td>2987</td>\n",
       "      <td>0.0</td>\n",
       "      <td>88.0</td>\n",
       "      <td>360.0</td>\n",
       "      <td>0.0</td>\n",
       "      <td>Semiurban</td>\n",
       "      <td>N</td>\n",
       "    </tr>\n",
       "    <tr>\n",
       "      <th>600</th>\n",
       "      <td>Female</td>\n",
       "      <td>No</td>\n",
       "      <td>3+</td>\n",
       "      <td>Graduate</td>\n",
       "      <td>NaN</td>\n",
       "      <td>416</td>\n",
       "      <td>41667.0</td>\n",
       "      <td>350.0</td>\n",
       "      <td>180.0</td>\n",
       "      <td>NaN</td>\n",
       "      <td>Urban</td>\n",
       "      <td>N</td>\n",
       "    </tr>\n",
       "    <tr>\n",
       "      <th>601</th>\n",
       "      <td>Male</td>\n",
       "      <td>Yes</td>\n",
       "      <td>0</td>\n",
       "      <td>Not Graduate</td>\n",
       "      <td>NaN</td>\n",
       "      <td>2894</td>\n",
       "      <td>2792.0</td>\n",
       "      <td>155.0</td>\n",
       "      <td>360.0</td>\n",
       "      <td>1.0</td>\n",
       "      <td>Rural</td>\n",
       "      <td>Y</td>\n",
       "    </tr>\n",
       "    <tr>\n",
       "      <th>605</th>\n",
       "      <td>Male</td>\n",
       "      <td>Yes</td>\n",
       "      <td>0</td>\n",
       "      <td>Not Graduate</td>\n",
       "      <td>No</td>\n",
       "      <td>2400</td>\n",
       "      <td>3800.0</td>\n",
       "      <td>NaN</td>\n",
       "      <td>180.0</td>\n",
       "      <td>1.0</td>\n",
       "      <td>Urban</td>\n",
       "      <td>N</td>\n",
       "    </tr>\n",
       "  </tbody>\n",
       "</table>\n",
       "<p>134 rows × 12 columns</p>\n",
       "</div>"
      ],
      "text/plain": [
       "     Gender Married Dependents     Education Self_Employed  ApplicantIncome  \\\n",
       "0      Male      No          0      Graduate            No             5849   \n",
       "11     Male     Yes          2      Graduate           NaN             2500   \n",
       "16     Male      No          1  Not Graduate            No             3596   \n",
       "19     Male     Yes          0      Graduate           NaN             2600   \n",
       "23      NaN     Yes          2  Not Graduate            No             3365   \n",
       "..      ...     ...        ...           ...           ...              ...   \n",
       "592     NaN      No         3+      Graduate           Yes             9357   \n",
       "597    Male      No        NaN      Graduate            No             2987   \n",
       "600  Female      No         3+      Graduate           NaN              416   \n",
       "601    Male     Yes          0  Not Graduate           NaN             2894   \n",
       "605    Male     Yes          0  Not Graduate            No             2400   \n",
       "\n",
       "     CoapplicantIncome  LoanAmount  Loan_Amount_Term  Credit_History  \\\n",
       "0                  0.0         NaN             360.0             1.0   \n",
       "11              1840.0       109.0             360.0             1.0   \n",
       "16                 0.0       100.0             240.0             NaN   \n",
       "19              3500.0       115.0               NaN             1.0   \n",
       "23              1917.0       112.0             360.0             0.0   \n",
       "..                 ...         ...               ...             ...   \n",
       "592                0.0       292.0             360.0             1.0   \n",
       "597                0.0        88.0             360.0             0.0   \n",
       "600            41667.0       350.0             180.0             NaN   \n",
       "601             2792.0       155.0             360.0             1.0   \n",
       "605             3800.0         NaN             180.0             1.0   \n",
       "\n",
       "    Property_Area Loan_Status  \n",
       "0           Urban           Y  \n",
       "11          Urban           Y  \n",
       "16          Urban           Y  \n",
       "19          Urban           Y  \n",
       "23          Rural           N  \n",
       "..            ...         ...  \n",
       "592     Semiurban           Y  \n",
       "597     Semiurban           N  \n",
       "600         Urban           N  \n",
       "601         Rural           Y  \n",
       "605         Urban           N  \n",
       "\n",
       "[134 rows x 12 columns]"
      ]
     },
     "execution_count": 12,
     "metadata": {},
     "output_type": "execute_result"
    }
   ],
   "source": [
    "loan[loan.isna().any(axis=1)] # all missing vlaue in my data set\n",
    "# loan.shape\n"
   ]
  },
  {
   "cell_type": "code",
   "execution_count": 13,
   "id": "3e39b32d",
   "metadata": {},
   "outputs": [
    {
     "data": {
      "text/html": [
       "<div>\n",
       "<style scoped>\n",
       "    .dataframe tbody tr th:only-of-type {\n",
       "        vertical-align: middle;\n",
       "    }\n",
       "\n",
       "    .dataframe tbody tr th {\n",
       "        vertical-align: top;\n",
       "    }\n",
       "\n",
       "    .dataframe thead th {\n",
       "        text-align: right;\n",
       "    }\n",
       "</style>\n",
       "<table border=\"1\" class=\"dataframe\">\n",
       "  <thead>\n",
       "    <tr style=\"text-align: right;\">\n",
       "      <th></th>\n",
       "      <th>Gender</th>\n",
       "      <th>Married</th>\n",
       "      <th>Dependents</th>\n",
       "      <th>Education</th>\n",
       "      <th>Self_Employed</th>\n",
       "      <th>ApplicantIncome</th>\n",
       "      <th>CoapplicantIncome</th>\n",
       "      <th>LoanAmount</th>\n",
       "      <th>Loan_Amount_Term</th>\n",
       "      <th>Credit_History</th>\n",
       "      <th>Property_Area</th>\n",
       "      <th>Loan_Status</th>\n",
       "    </tr>\n",
       "  </thead>\n",
       "  <tbody>\n",
       "    <tr>\n",
       "      <th>104</th>\n",
       "      <td>Male</td>\n",
       "      <td>NaN</td>\n",
       "      <td>NaN</td>\n",
       "      <td>Graduate</td>\n",
       "      <td>No</td>\n",
       "      <td>3816</td>\n",
       "      <td>754.0</td>\n",
       "      <td>160.0</td>\n",
       "      <td>360.0</td>\n",
       "      <td>1.0</td>\n",
       "      <td>Urban</td>\n",
       "      <td>Y</td>\n",
       "    </tr>\n",
       "    <tr>\n",
       "      <th>228</th>\n",
       "      <td>Male</td>\n",
       "      <td>NaN</td>\n",
       "      <td>NaN</td>\n",
       "      <td>Graduate</td>\n",
       "      <td>No</td>\n",
       "      <td>4758</td>\n",
       "      <td>0.0</td>\n",
       "      <td>158.0</td>\n",
       "      <td>480.0</td>\n",
       "      <td>1.0</td>\n",
       "      <td>Semiurban</td>\n",
       "      <td>Y</td>\n",
       "    </tr>\n",
       "    <tr>\n",
       "      <th>435</th>\n",
       "      <td>Female</td>\n",
       "      <td>NaN</td>\n",
       "      <td>NaN</td>\n",
       "      <td>Graduate</td>\n",
       "      <td>No</td>\n",
       "      <td>10047</td>\n",
       "      <td>0.0</td>\n",
       "      <td>NaN</td>\n",
       "      <td>240.0</td>\n",
       "      <td>1.0</td>\n",
       "      <td>Semiurban</td>\n",
       "      <td>Y</td>\n",
       "    </tr>\n",
       "  </tbody>\n",
       "</table>\n",
       "</div>"
      ],
      "text/plain": [
       "     Gender Married Dependents Education Self_Employed  ApplicantIncome  \\\n",
       "104    Male     NaN        NaN  Graduate            No             3816   \n",
       "228    Male     NaN        NaN  Graduate            No             4758   \n",
       "435  Female     NaN        NaN  Graduate            No            10047   \n",
       "\n",
       "     CoapplicantIncome  LoanAmount  Loan_Amount_Term  Credit_History  \\\n",
       "104              754.0       160.0             360.0             1.0   \n",
       "228                0.0       158.0             480.0             1.0   \n",
       "435                0.0         NaN             240.0             1.0   \n",
       "\n",
       "    Property_Area Loan_Status  \n",
       "104         Urban           Y  \n",
       "228     Semiurban           Y  \n",
       "435     Semiurban           Y  "
      ]
     },
     "execution_count": 13,
     "metadata": {},
     "output_type": "execute_result"
    }
   ],
   "source": [
    "loan[loan[\"Married\"].isna()]"
   ]
  },
  {
   "cell_type": "code",
   "execution_count": 24,
   "id": "4c45b3f0",
   "metadata": {},
   "outputs": [
    {
     "data": {
      "text/plain": [
       "Married            136\n",
       "Education          136\n",
       "Self_Employed      136\n",
       "ApplicantIncome    136\n",
       "LoanAmount         133\n",
       "dtype: int64"
      ]
     },
     "execution_count": 24,
     "metadata": {},
     "output_type": "execute_result"
    }
   ],
   "source": [
    "s=loan[[\"Married\",\"Education\",\"Self_Employed\",\"ApplicantIncome\",\"LoanAmount\"]]\n",
    "s.sort_values(by=\"Married\",ascending=True)\n",
    "subset = s[(s['Married'] == \"No\") & ((s['Education'] == 'Graduate') & (s['Self_Employed'] == \"No\"))]\n",
    "# loan['Married'].fillna('No', inplace=True)\n",
    "# # print(loan.shape)# we observe a pattern most of not married people are graduate, not self employed treat as (mar)\n",
    "# loan.isnull().sum()"
   ]
  },
  {
   "cell_type": "code",
   "execution_count": null,
   "id": "57274f9f",
   "metadata": {},
   "outputs": [],
   "source": [
    "sns.countplot( x=\"Gender\",data=loan)5"
   ]
  },
  {
   "cell_type": "code",
   "execution_count": null,
   "id": "44e6e7ef",
   "metadata": {},
   "outputs": [],
   "source": [
    "\n"
   ]
  },
  {
   "cell_type": "code",
   "execution_count": null,
   "id": "f4d27f6f",
   "metadata": {},
   "outputs": [],
   "source": []
  },
  {
   "cell_type": "code",
   "execution_count": null,
   "id": "633219c2",
   "metadata": {},
   "outputs": [],
   "source": [
    "loan[loan[\"Gender\"].isna()] # most of female is not married,with zero coapplicant income no credit history with educated\n",
    "# means these female applying first time of loan about more than 95 percent of our has this property"
   ]
  },
  {
   "cell_type": "code",
   "execution_count": null,
   "id": "7c46832d",
   "metadata": {},
   "outputs": [],
   "source": [
    "s=loan[[\"Gender\",\"Married\"]]\n",
    "mask = (s['Gender'].isnull()) & (s['Married'] == 'Yes')\n",
    "s.loc[mask, 'Gender'] = 'Male'\n",
    "# # Fill missing \"Gender\" values with \"Female\" for other cases\n",
    "s['Gender'].fillna('Female', inplace=True)\n",
    "    \n",
    "# subset = s[(s['Married'] == \"No\") & ((s['Education'] == 'Graduate') )& ((s['CoapplicantIncome'] ==0) )& ((s['Credit_History'] ==1) )]\n",
    "# subset.sort_values(by=\"Gender\",ascending=True).head(50)"
   ]
  },
  {
   "cell_type": "code",
   "execution_count": null,
   "id": "a2d56b1b",
   "metadata": {},
   "outputs": [],
   "source": [
    "\n",
    "loan[\"Gender\"]=s[\"Gender\"]\n",
    "loan[\"Married\"]=s[\"Married\"]\n",
    "loan.isnull().sum()"
   ]
  },
  {
   "cell_type": "code",
   "execution_count": null,
   "id": "e11d788b",
   "metadata": {},
   "outputs": [],
   "source": [
    "loan[loan[\"Credit_History\"].isna()]\n",
    "# sns.countplot( x=\"Credit_History\",data=loan)"
   ]
  },
  {
   "cell_type": "code",
   "execution_count": null,
   "id": "bfb46417",
   "metadata": {},
   "outputs": [],
   "source": [
    "sns.countplot( x=\"Credit_History\",data=loan)"
   ]
  },
  {
   "cell_type": "code",
   "execution_count": null,
   "id": "38bdf9be",
   "metadata": {},
   "outputs": [],
   "source": [
    "# s=loan[[\"Dependents\",\"Self_Employed\",\"LoanAmount\"]]\n",
    "sns.countplot(x=\"Self_Employed\",data=loan)"
   ]
  },
  {
   "cell_type": "code",
   "execution_count": null,
   "id": "f3f8a89e",
   "metadata": {},
   "outputs": [],
   "source": [
    "# replacing the value of 3+ to 4\n",
    "loan= loan.replace(to_replace='3+', value=4)"
   ]
  },
  {
   "cell_type": "code",
   "execution_count": null,
   "id": "ae1667d3",
   "metadata": {},
   "outputs": [],
   "source": [
    "a=int(loan['Credit_History'].mode())\n",
    "b=int(loan['Loan_Amount_Term'].mode())\n",
    "c=loan[\"Self_Employed\"].mode()\n",
    "\n",
    "# most frequent value is used to fill nan value in credit history\n",
    "# most frequent value is used to fill nan value in Loan_Amount_Term\n",
    "print(c)\n",
    "loan['Credit_History'].fillna(a, inplace=True)\n",
    "loan['Loan_Amount_Term'].fillna(b, inplace=True)\n",
    "loan[\"Self_Employed\"].fillna(\"No\", inplace=True)\n",
    "\n",
    "\n",
    "\n",
    "loan.isnull().sum() "
   ]
  },
  {
   "cell_type": "code",
   "execution_count": null,
   "id": "61daa71d",
   "metadata": {},
   "outputs": [],
   "source": [
    "# iterative imputation\n",
    "\n",
    "sns.scatterplot(x='LoanAmount',y='ApplicantIncome',data=loan,hue=(\"Dependents\"))\n"
   ]
  },
  {
   "cell_type": "code",
   "execution_count": null,
   "id": "473d4467",
   "metadata": {},
   "outputs": [],
   "source": [
    "loan[\"Dependents\"].value_counts()"
   ]
  },
  {
   "cell_type": "code",
   "execution_count": null,
   "id": "5c5425e4",
   "metadata": {
    "scrolled": true
   },
   "outputs": [],
   "source": [
    "\n",
    "sns.pairplot(loan,hue='Loan_Status',palette='viridis')"
   ]
  },
  {
   "cell_type": "code",
   "execution_count": null,
   "id": "1df72ecc",
   "metadata": {},
   "outputs": [],
   "source": []
  },
  {
   "cell_type": "code",
   "execution_count": null,
   "id": "87afd4e8",
   "metadata": {},
   "outputs": [],
   "source": [
    "pd.crosstab(loan[\"Credit_History\"],loan[\"Loan_Status\"],margins=True)"
   ]
  },
  {
   "cell_type": "code",
   "execution_count": null,
   "id": "1e24d8a5",
   "metadata": {},
   "outputs": [],
   "source": [
    "plt.figure(figsize=(12,6))\n",
    "sns.boxplot(loan)\n",
    "# sns.boxplot(x='parental level of education',y='math score',data=df,hue='gender',width=0.3)"
   ]
  },
  {
   "cell_type": "code",
   "execution_count": null,
   "id": "e56e1d15",
   "metadata": {},
   "outputs": [],
   "source": [
    "loan[\"ApplicantIncome\"].hist()"
   ]
  },
  {
   "cell_type": "code",
   "execution_count": null,
   "id": "2afe3058",
   "metadata": {},
   "outputs": [],
   "source": [
    "\n",
    "\n",
    "\n",
    "loan[\"CoapplicantIncome\"].hist()\n",
    "\n",
    "\n",
    "\n"
   ]
  },
  {
   "cell_type": "code",
   "execution_count": null,
   "id": "3130af9f",
   "metadata": {},
   "outputs": [],
   "source": [
    "loan.boxplot(column='ApplicantIncome',by='Education')"
   ]
  },
  {
   "cell_type": "code",
   "execution_count": null,
   "id": "a3ce1b8c",
   "metadata": {},
   "outputs": [],
   "source": [
    "loan.boxplot(column='LoanAmount')\n"
   ]
  },
  {
   "cell_type": "code",
   "execution_count": null,
   "id": "d8aa6476",
   "metadata": {
    "scrolled": true
   },
   "outputs": [],
   "source": [
    "loan['LoanAmount'].hist()"
   ]
  },
  {
   "cell_type": "code",
   "execution_count": null,
   "id": "983a1d33",
   "metadata": {},
   "outputs": [],
   "source": [
    "loan[\"loanAmount_log\"]=np.log(loan[\"LoanAmount\"])\n",
    "loan[\"loanAmount_log\"].hist()"
   ]
  },
  {
   "cell_type": "code",
   "execution_count": null,
   "id": "8c42d261",
   "metadata": {},
   "outputs": [],
   "source": [
    "loan.isnull().sum()"
   ]
  },
  {
   "cell_type": "code",
   "execution_count": null,
   "id": "c34a2cb8",
   "metadata": {},
   "outputs": [],
   "source": [
    "loan[\"Dependents\"].count()\n",
    "# sns.countplot(x=\"Dependents\",data=loan)\n",
    "a=loan[\"Dependents\"].fillna(0).astype(int)\n",
    "a.mean()\n"
   ]
  },
  {
   "cell_type": "code",
   "execution_count": null,
   "id": "04978262",
   "metadata": {},
   "outputs": [],
   "source": [
    "loan[\"Totalincome\"]=loan[\"ApplicantIncome\"]+loan[\"CoapplicantIncome\"]\n",
    "loan[\"Totalincome_log\"]=np.log(loan[\"Totalincome\"])"
   ]
  },
  {
   "cell_type": "code",
   "execution_count": null,
   "id": "1e1fcf5e",
   "metadata": {},
   "outputs": [],
   "source": [
    "loan[\"Totalincome_log\"].hist()"
   ]
  },
  {
   "cell_type": "code",
   "execution_count": null,
   "id": "4e3f8919",
   "metadata": {},
   "outputs": [],
   "source": [
    "plt.figure(figsize=(100,50))\n",
    "sns.set(font_scale=5)\n",
    "plt.subplot(331)\n",
    "sns.countplot(x=loan[\"Gender\"],hue=loan[\"Loan_Status\"])\n",
    "\n",
    "plt.subplot(332)\n",
    "sns.countplot(x=loan[\"Married\"],hue=loan[\"Loan_Status\"])\n",
    "plt.subplot(333)\n",
    "sns.countplot(x=loan[\"Education\"],hue=loan[\"Loan_Status\"])\n",
    "plt.subplot(334)\n",
    "sns.countplot(x=loan[\"Self_Employed\"],hue=loan[\"Loan_Status\"])\n",
    "plt.subplot(335)\n",
    "sns.countplot(x=loan[\"Property_Area\"],hue=loan[\"Loan_Status\"])\n",
    "\n"
   ]
  },
  {
   "cell_type": "code",
   "execution_count": null,
   "id": "70fe6d48",
   "metadata": {},
   "outputs": [],
   "source": [
    "# convert categorical columns to numerical values\n",
    "#  label encoding\n",
    "loan.replace({'Married':{'No':0,'Yes':1},'Gender':{'Male':1,'Female':0},'Self_Employed':{'No':0,'Yes':1},\n",
    "                      'Property_Area':{'Rural':0,'Semiurban':1,'Urban':2},'Loan_Status':{'N':0,'Y':1},'Education':{'Graduate':1,'Not Graduate':0}},inplace=True)"
   ]
  },
  {
   "cell_type": "code",
   "execution_count": null,
   "id": "54e7d862",
   "metadata": {},
   "outputs": [],
   "source": [
    "loan"
   ]
  },
  {
   "cell_type": "code",
   "execution_count": null,
   "id": "a007d8fd",
   "metadata": {},
   "outputs": [],
   "source": [
    "fig,ax=plt.subplots(figsize=(55,38))\n",
    "sns.heatmap(data=loan.corr().round(2),annot=True)\n",
    "plt.show()"
   ]
  },
  {
   "cell_type": "code",
   "execution_count": null,
   "id": "ef18539e",
   "metadata": {},
   "outputs": [],
   "source": []
  },
  {
   "cell_type": "code",
   "execution_count": null,
   "id": "bbbf8149",
   "metadata": {},
   "outputs": [],
   "source": [
    "loan.columns"
   ]
  },
  {
   "cell_type": "code",
   "execution_count": null,
   "id": "2bc7e9b4",
   "metadata": {},
   "outputs": [],
   "source": [
    "from sklearn.experimental import enable_iterative_imputer\n",
    "from sklearn.impute import IterativeImputer\n",
    "from sklearn.linear_model import LinearRegression\n",
    "\n"
   ]
  },
  {
   "cell_type": "code",
   "execution_count": null,
   "id": "0325d8fd",
   "metadata": {},
   "outputs": [],
   "source": [
    "linear_reg=LinearRegression()\n",
    "imp = IterativeImputer(estimator=linear_reg,missing_values=np.nan,max_iter=5,verbose=2,random_state=0)\n"
   ]
  },
  {
   "cell_type": "code",
   "execution_count": null,
   "id": "93c49bdb",
   "metadata": {
    "scrolled": true
   },
   "outputs": [],
   "source": [
    "# from sklearn.experimental import enable_iterative_imputer\n",
    "# from sklearn.impute import IterativeImputer\n",
    "# # from sklearn.linear_model import KNNImputer\n",
    "# from sklearn.impute import KNNImputer\n",
    "# import numpy as np\n",
    "\n",
    "# # Create a sample dataset with missing values\n",
    "\n",
    "# knn_imputer = KNNImputer(n_neighbors=3)\n",
    "\n",
    "# # Perform imputation\n",
    "# imputed_data = knn_imputer.fit_transform(loan)\n",
    "# Initialize the iterative imputer with a logistic regression estimator\n",
    "# logisticreg = KNNImputer(n_neighbors=2)\n",
    "# imp = IterativeImputer(estimator=logisticreg,missing_values=np.nan,max_iter=5,verbose=2,imputation_order='roman',random_state=0)\n",
    "\n",
    "# Fit the imputer on your dat\n",
    "# imputer.fit(loan)\n",
    "\n",
    "# Impute missing values\n",
    "imputed_data = imp.fit_transform(loan)\n",
    "\n",
    "# print(\"Original data:\\n\", loan)\n",
    "# print(\"Imputed data:\\n\", imputed_data)\n",
    "loan_st=pd.DataFrame(imputed_data)\n"
   ]
  },
  {
   "cell_type": "code",
   "execution_count": null,
   "id": "44bada05",
   "metadata": {},
   "outputs": [],
   "source": [
    "loan_st"
   ]
  },
  {
   "cell_type": "code",
   "execution_count": null,
   "id": "404f14da",
   "metadata": {},
   "outputs": [],
   "source": [
    "# loan_st\n",
    "new_column_names=['Gender', 'Married', 'Dependents', 'Education','Self_Employed',\n",
    "       'ApplicantIncome', 'CoapplicantIncome','LoanAmount',\n",
    "       'Loan_Amount_Term', 'Credit_History', 'Property_Area', 'Loan_Status',\n",
    "       'loanAmount_log', 'Totalincome', 'Totalincome_log']\n",
    "loan_st.columns = new_column_names"
   ]
  },
  {
   "cell_type": "code",
   "execution_count": null,
   "id": "688595b8",
   "metadata": {},
   "outputs": [],
   "source": []
  },
  {
   "cell_type": "code",
   "execution_count": null,
   "id": "69802b1a",
   "metadata": {},
   "outputs": [],
   "source": [
    "# specify input and output attributes\n",
    "X = loan_st.drop(columns=['Loan_Status'], axis=1)\n",
    "y =loan_st['Loan_Status']"
   ]
  },
  {
   "cell_type": "code",
   "execution_count": null,
   "id": "8118e09e",
   "metadata": {},
   "outputs": [],
   "source": [
    "from sklearn.model_selection import train_test_split\n",
    "x_train, x_test, y_train, y_test = train_test_split(X, y, test_size=0.3, random_state=42)"
   ]
  },
  {
   "cell_type": "code",
   "execution_count": null,
   "id": "545bd96d",
   "metadata": {},
   "outputs": [],
   "source": [
    "# classify function\n",
    "from sklearn.model_selection import cross_val_score\n",
    "def classify(model, x, y):\n",
    "    x_train, x_test, y_train, y_test = train_test_split(X, y, test_size=0.3, random_state=42)\n",
    "    model.fit(x_train, y_train)\n",
    "    print(\"Accuracy is\", model.score(x_test, y_test)*100)\n",
    "    # cross validation - it is used for better validation of model\n",
    "    # eg: cv-5, train-4, test-1\n",
    "    score = cross_val_score(model, x, y, cv=5)\n",
    "    print(\"Cross validation is\",np.mean(score)*100)"
   ]
  },
  {
   "cell_type": "code",
   "execution_count": null,
   "id": "0a728c60",
   "metadata": {},
   "outputs": [],
   "source": [
    "from sklearn.linear_model import LogisticRegression\n",
    "model = LogisticRegression()\n",
    "classify(model, X, y)"
   ]
  },
  {
   "cell_type": "markdown",
   "id": "31fee2b7",
   "metadata": {},
   "source": [
    "# Confusion Matrix\n",
    "A confusion matrix is a summary of prediction results on a classification problem. The number of correct and incorrect predictions are summarized with count values and broken down by each class. It gives us insight not only into the errors being made by a classifier but more importantly the types of errors that are being made."
   ]
  },
  {
   "cell_type": "code",
   "execution_count": null,
   "id": "4d2377ba",
   "metadata": {},
   "outputs": [],
   "source": [
    "from sklearn.metrics import confusion_matrix\n",
    "y_pred = model.predict(x_test)\n",
    "cm = confusion_matrix(y_test, y_pred)\n",
    "cm"
   ]
  },
  {
   "cell_type": "code",
   "execution_count": null,
   "id": "83c184b7",
   "metadata": {},
   "outputs": [],
   "source": [
    "\n",
    "sns.heatmap(cm, annot=True)"
   ]
  },
  {
   "cell_type": "code",
   "execution_count": null,
   "id": "239b8e44",
   "metadata": {},
   "outputs": [],
   "source": [
    "gre = sns.regplot(x= 'Credit_History', y= 'Loan_Status', data= loan_st, logistic= True).set_title(\"pregnancies Log Odds Linear Plot\")"
   ]
  },
  {
   "cell_type": "code",
   "execution_count": null,
   "id": "ef0d361a",
   "metadata": {},
   "outputs": [],
   "source": [
    "gre = sns.regplot(x= 'ApplicantIncome', y= 'Loan_Status', data= loan_st, logistic= True).set_title(\"pregnancies Log Odds Linear Plot\")"
   ]
  },
  {
   "cell_type": "code",
   "execution_count": null,
   "id": "f641d408",
   "metadata": {},
   "outputs": [],
   "source": [
    "gre = sns.regplot(x= 'LoanAmount', y= 'Loan_Status', data= loan_st, logistic= True).set_title(\"pregnancies Log Odds Linear Plot\")"
   ]
  },
  {
   "cell_type": "code",
   "execution_count": null,
   "id": "71fa6c9a",
   "metadata": {},
   "outputs": [],
   "source": [
    "gre = sns.regplot(x= 'CoapplicantIncome', y= 'Loan_Status', data= loan_st, logistic= True).set_title(\"pregnancies Log Odds Linear Plot\")"
   ]
  },
  {
   "cell_type": "code",
   "execution_count": null,
   "id": "c40be8dd",
   "metadata": {},
   "outputs": [],
   "source": [
    "gre = sns.regplot(x= 'Loan_Amount_Term', y= 'Loan_Status', data= loan_st, logistic= True).set_title(\"pregnancies Log Odds Linear Plot\")"
   ]
  },
  {
   "cell_type": "code",
   "execution_count": null,
   "id": "d8ef8915",
   "metadata": {},
   "outputs": [],
   "source": [
    "loan_st"
   ]
  },
  {
   "cell_type": "code",
   "execution_count": null,
   "id": "7fafa4e1",
   "metadata": {},
   "outputs": [],
   "source": []
  },
  {
   "cell_type": "code",
   "execution_count": null,
   "id": "cf3e5e1b",
   "metadata": {},
   "outputs": [],
   "source": []
  },
  {
   "cell_type": "code",
   "execution_count": null,
   "id": "ab7f3aed",
   "metadata": {},
   "outputs": [],
   "source": []
  },
  {
   "cell_type": "code",
   "execution_count": null,
   "id": "3d0a1a3e",
   "metadata": {},
   "outputs": [],
   "source": []
  },
  {
   "cell_type": "code",
   "execution_count": null,
   "id": "f9debd6d",
   "metadata": {},
   "outputs": [],
   "source": [
    "\n"
   ]
  },
  {
   "cell_type": "code",
   "execution_count": null,
   "id": "209489f9",
   "metadata": {},
   "outputs": [],
   "source": []
  },
  {
   "cell_type": "code",
   "execution_count": null,
   "id": "52aa07eb",
   "metadata": {},
   "outputs": [],
   "source": [
    "\n"
   ]
  },
  {
   "cell_type": "code",
   "execution_count": null,
   "id": "b0669325",
   "metadata": {},
   "outputs": [],
   "source": [
    "\n"
   ]
  },
  {
   "cell_type": "code",
   "execution_count": null,
   "id": "6aa7665e",
   "metadata": {},
   "outputs": [],
   "source": [
    "\n"
   ]
  },
  {
   "cell_type": "code",
   "execution_count": null,
   "id": "4de4f1d5",
   "metadata": {},
   "outputs": [],
   "source": [
    "\n"
   ]
  },
  {
   "cell_type": "code",
   "execution_count": null,
   "id": "7ac73f12",
   "metadata": {},
   "outputs": [],
   "source": []
  },
  {
   "cell_type": "code",
   "execution_count": null,
   "id": "c85553c2",
   "metadata": {},
   "outputs": [],
   "source": []
  }
 ],
 "metadata": {
  "kernelspec": {
   "display_name": "Python 3 (ipykernel)",
   "language": "python",
   "name": "python3"
  },
  "language_info": {
   "codemirror_mode": {
    "name": "ipython",
    "version": 3
   },
   "file_extension": ".py",
   "mimetype": "text/x-python",
   "name": "python",
   "nbconvert_exporter": "python",
   "pygments_lexer": "ipython3",
   "version": "3.11.5"
  }
 },
 "nbformat": 4,
 "nbformat_minor": 5
}
