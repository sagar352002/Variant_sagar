{
 "cells": [
  {
   "cell_type": "code",
   "execution_count": 2,
   "id": "6730c148",
   "metadata": {},
   "outputs": [
    {
     "name": "stdout",
     "output_type": "stream",
     "text": [
      "Correlation between SENSEX and NIFTY: 1.0\n",
      "Spike Differentials for SENSEX: [10 10 10 10]\n",
      "Spike Differentials for NIFTY: [10 10 10 10]\n"
     ]
    }
   ],
   "source": [
    "import pandas as pd\n",
    "import numpy as np\n",
    "from scipy.stats import pearsonr\n",
    "# Step 1: Calculate Correlation\n",
    "def calculate_correlation(data1, data2):\n",
    "    correlation, _ = pearsonr(data1, data2)\n",
    "    return correlation\n",
    "\n",
    "# Step 2: Identify Spike Differentials\n",
    "def quantify_spike_differentials(data):\n",
    "    spike_differentials = np.diff(data)\n",
    "    return spike_differentials\n",
    "\n",
    "# Step 3: Model Building\n",
    "def build_model(data1, data2):\n",
    "    correlation = calculate_correlation(data1, data2)\n",
    "    spike_differentials = quantify_spike_differentials(data1)\n",
    "def main():\n",
    "    # Example data (replace with actual data)\n",
    "    data_sensex = np.array([100, 110, 120, 130, 140])\n",
    "    data_nifty = np.array([105, 115, 125, 135, 145])\n",
    "\n",
    "    # Step 3: Calculate Correlation\n",
    "    correlation = calculate_correlation(data_sensex, data_nifty)\n",
    "    print(f\"Correlation between SENSEX and NIFTY: {correlation}\")\n",
    "\n",
    "    # Step 4: Identify Spike Differentials\n",
    "    spike_differentials_sensex = quantify_spike_differentials(data_sensex)\n",
    "    spike_differentials_nifty = quantify_spike_differentials(data_nifty)\n",
    "    print(f\"Spike Differentials for SENSEX: {spike_differentials_sensex}\")\n",
    "    print(f\"Spike Differentials for NIFTY: {spike_differentials_nifty}\")\n",
    "\n",
    "    # Step 5: Model Building\n",
    "    build_model(data_sensex, data_nifty)\n",
    "\n",
    "if __name__ == \"__main__\":\n",
    "    main()\n"
   ]
  },
  {
   "cell_type": "code",
   "execution_count": null,
   "id": "f93238a1",
   "metadata": {},
   "outputs": [],
   "source": []
  }
 ],
 "metadata": {
  "kernelspec": {
   "display_name": "Python 3 (ipykernel)",
   "language": "python",
   "name": "python3"
  },
  "language_info": {
   "codemirror_mode": {
    "name": "ipython",
    "version": 3
   },
   "file_extension": ".py",
   "mimetype": "text/x-python",
   "name": "python",
   "nbconvert_exporter": "python",
   "pygments_lexer": "ipython3",
   "version": "3.11.4"
  }
 },
 "nbformat": 4,
 "nbformat_minor": 5
}
